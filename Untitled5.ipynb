{
 "cells": [
  {
   "cell_type": "code",
   "execution_count": null,
   "id": "2d8d996f-c365-4a1c-947b-4f6c3591a6e9",
   "metadata": {},
   "outputs": [],
   "source": [
    "def product_of_numbers(lst):\n",
    "    flat_lst = []\n",
    "    for item in lst:\n",
    "        if type(item) == list or type(item) == tuple or type(item) == set:\n",
    "            flat_lst.extend(item)\n",
    "        elif type(item) == dict:\n",
    "            flat_lst.extend(item.values())\n",
    "        else:\n",
    "            flat_lst.append(item)\n",
    "    product = 1\n",
    "    for num in flat_lst:\n",
    "        if type(num) == int or type(num) == float:\n",
    "            product *= num\n",
    "    return product\n",
    "list1 = [1,2,3,4, [44,55,66, True], False, (34,56,78,89,34), {1,2,3,3,2,1}, {1:34, \"key2\": [55, 67, 78, 89], 4: (45,22, 61, 34)}, [56, 'data science'], 'Machine Learning']\n",
    "\n",
    "print(product_of_numbers(list1)) \n",
    "\n"
   ]
  },
  {
   "cell_type": "code",
   "execution_count": null,
   "id": "d3372790-6e91-4df3-bc8e-305f4724ad8a",
   "metadata": {},
   "outputs": [],
   "source": [
    "def encrypt_message(message):\n",
    "    encrypted = \"\"\n",
    "    for char in message.lower():\n",
    "        if char == \" \":\n",
    "            encrypted += \"$\"\n",
    "        elif char.isalpha():\n",
    "            encrypted += chr(ord(\"a\") + (25 - (ord(char) - ord(\"a\"))))\n",
    "        else:\n",
    "            encrypted += char\n",
    "    return encrypted\n",
    "\n",
    "message = \"I want to become a Data Scientist.\"\n",
    "encrypted_message = encrypt_message(message)\n",
    "print(encrypted_message) \n"
   ]
  },
  {
   "cell_type": "code",
   "execution_count": null,
   "id": "8daf9997-42e9-4a46-8bbc-3e6ac2619b37",
   "metadata": {},
   "outputs": [],
   "source": []
  }
 ],
 "metadata": {
  "kernelspec": {
   "display_name": "Python 3 (ipykernel)",
   "language": "python",
   "name": "python3"
  },
  "language_info": {
   "codemirror_mode": {
    "name": "ipython",
    "version": 3
   },
   "file_extension": ".py",
   "mimetype": "text/x-python",
   "name": "python",
   "nbconvert_exporter": "python",
   "pygments_lexer": "ipython3",
   "version": "3.10.8"
  }
 },
 "nbformat": 4,
 "nbformat_minor": 5
}
